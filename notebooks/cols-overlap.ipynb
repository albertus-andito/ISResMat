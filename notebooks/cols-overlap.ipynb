{
 "cells": [
  {
   "cell_type": "code",
   "execution_count": null,
   "id": "020bf0e9",
   "metadata": {},
   "outputs": [],
   "source": [
    "import pandas as pd"
   ]
  },
  {
   "cell_type": "code",
   "execution_count": null,
   "id": "3d5b5e69",
   "metadata": {
    "scrolled": false
   },
   "outputs": [],
   "source": [
    "# instance-based\n",
    "my_df=pd.read_csv('/home/dxy/sourcecode/ISResMat/data/output/summary_csv/inst-002/total.csv')\n",
    "\n",
    "# schema-based\n",
    "# my_df=pd.read_csv('/home/dxy/sourcecode/ISResMat/data/output/summary_csv/schema-002/total.csv')\n",
    "\n",
    "# hybird\n",
    "# my_df=pd.read_csv('/home/dxy/sourcecode/ISResMat/data/output/summary_csv/hybrid-002/total.csv')\n",
    "\n",
    "\n",
    "my_df"
   ]
  },
  {
   "cell_type": "code",
   "execution_count": null,
   "id": "48f9dc85",
   "metadata": {},
   "outputs": [],
   "source": [
    "my_df['Dataset'] = my_df['dataname'].apply(lambda x: x.split('/')[-1])\n",
    "my_df.rename(columns={'recall_at_sizeof_ground_truth': 'ISReSMat'}, inplace=True)\n",
    "my_df=my_df[['Dataset','ISReSMat','n_generated_matches','n_expected_matches']]\n",
    "df=my_df[my_df['Dataset'].str.contains('assays|miller2|prospect')]\n",
    "df"
   ]
  },
  {
   "cell_type": "code",
   "execution_count": null,
   "id": "4de85a8a",
   "metadata": {},
   "outputs": [],
   "source": []
  },
  {
   "cell_type": "code",
   "execution_count": null,
   "id": "bef4e975",
   "metadata": {},
   "outputs": [],
   "source": [
    "overlap1=['both_0_1','both_50_1','vertical_1']\n",
    "overlap30=['both_0_30','both_50_30','vertical_30']\n",
    "overlap50=['both_0_50','both_50_50','vertical_50']\n",
    "overlap70=['both_0_70','both_50_70','vertical_70']\n",
    "overlap100=['horizontal_0','horizontal_50','horizontal_100']\n",
    "overlap_ls=[overlap1,overlap30,overlap50,overlap70,overlap100]\n",
    "\n",
    "means_ls=[]\n",
    "for i,ov in enumerate(overlap_ls):\n",
    "    chosen_overlap=ov\n",
    "    \n",
    "    filter_overlap=[cols for cols in chosen_overlap]\n",
    "    filter_str='|'.join(filter_overlap)\n",
    "    tp_df=df[df['Dataset'].str.contains(filter_str)]\n",
    "    \n",
    "\n",
    "\n",
    "    mean=tp_df[f'n_generated_matches'].sum()/tp_df['n_expected_matches'].sum()\n",
    "    means_ls.append(mean)\n",
    "   \n",
    "print(means_ls)"
   ]
  },
  {
   "cell_type": "code",
   "execution_count": null,
   "id": "0e38d046",
   "metadata": {},
   "outputs": [],
   "source": []
  },
  {
   "cell_type": "code",
   "execution_count": null,
   "id": "c8273c46",
   "metadata": {},
   "outputs": [],
   "source": []
  },
  {
   "cell_type": "code",
   "execution_count": null,
   "id": "5c1598df",
   "metadata": {},
   "outputs": [],
   "source": []
  }
 ],
 "metadata": {
  "kernelspec": {
   "display_name": "Python [conda env:dxy_lumber] *",
   "language": "python",
   "name": "conda-env-dxy_lumber-py"
  },
  "language_info": {
   "codemirror_mode": {
    "name": "ipython",
    "version": 3
   },
   "file_extension": ".py",
   "mimetype": "text/x-python",
   "name": "python",
   "nbconvert_exporter": "python",
   "pygments_lexer": "ipython3",
   "version": "3.9.18"
  }
 },
 "nbformat": 4,
 "nbformat_minor": 5
}
